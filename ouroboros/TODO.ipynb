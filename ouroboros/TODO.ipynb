{
 "cells": [
  {
   "cell_type": "code",
   "execution_count": 1,
   "metadata": {
    "ExecuteTime": {
     "end_time": "2017-07-01T22:19:22.313321Z",
     "start_time": "2017-07-01T22:19:22.296310Z"
    }
   },
   "outputs": [
    {
     "data": {
      "text/html": [
       "<style>.container{width:100%}</style>"
      ],
      "text/plain": [
       "<IPython.core.display.HTML object>"
      ]
     },
     "metadata": {},
     "output_type": "display_data"
    }
   ],
   "source": [
    "%%HTML\n",
    "<style>.container{width:100%}</style>"
   ]
  },
  {
   "cell_type": "markdown",
   "metadata": {},
   "source": [
    "# Ouroboros"
   ]
  },
  {
   "cell_type": "markdown",
   "metadata": {},
   "source": [
    "## Structure  \n",
    "\n",
    "### data definition \n",
    "\n",
    "Dataset for running a back test is a collection of data frames, including categorical information and time series for one or many stocks, indices, and other market information. A extension of loading data from common data sources will be add later. Definitions are description for each data frame and offer a uniform interface for outside to filter and search data.\n",
    "\n",
    "### strategy \n",
    "\n",
    "Strategy is a abstraction of ways to act and react to the market. A strategy itself can be a combination of many strategies. A strategy must has following components:\n",
    "\n",
    "- Data definition of what data it will use. Including category, factor, and time period.\n",
    "- One or more event function that will modify position along time and their running frequency.\n",
    "- *Optional* parameters of the strategy that will be constant or can be produced in a constant way.\n",
    "\n",
    "### back testing session \n",
    "\n",
    "Back test session is a back test run for a given time period given a strategy and relevant data. Data definition must match data. In the session, these component are required:\n",
    "\n",
    "Before the run:\n",
    "- Strategy\n",
    "- Data\n",
    "\n",
    "During the run:\n",
    "- Schedule: a time table of event functions to be run during the entire period \n",
    "- Temporary position: position at the end of last adjustment\n",
    "- Generated position moves: a time series of position move during event functions\n",
    "- Generated internal moves: a time series records internal valuation or parameters change\n",
    "\n",
    "After the run:\n",
    "- Realized gain or loss for each asset along time\n",
    "\n",
    "### infrastructure \n",
    "\n",
    "- data provider: a fast tool to be used for data filtering and chunking\n",
    "- gain and loss calculator\n",
    "- visualization tools\n",
    "\n",
    "## Project Plan\n",
    "\n",
    "### Stage 1 Make a swift workflow\n",
    "\n",
    "Using testing dataset and simple strategy to create a runnable back test workflow\n",
    "\n",
    "### Stage 2 Make a runnable package\n",
    "\n",
    "Split functions into modules and classes and make a universal package\n",
    "\n",
    "### Stage 3 Make a useful platform\n",
    "\n",
    "Building better connection with data source provider and better result visualization"
   ]
  },
  {
   "cell_type": "code",
   "execution_count": null,
   "metadata": {
    "collapsed": true
   },
   "outputs": [],
   "source": []
  }
 ],
 "metadata": {
  "anaconda-cloud": {},
  "kernelspec": {
   "display_name": "Python 3",
   "language": "python",
   "name": "python3"
  },
  "language_info": {
   "codemirror_mode": {
    "name": "ipython",
    "version": 3
   },
   "file_extension": ".py",
   "mimetype": "text/x-python",
   "name": "python",
   "nbconvert_exporter": "python",
   "pygments_lexer": "ipython3",
   "version": "3.6.1"
  },
  "toc": {
   "colors": {
    "hover_highlight": "#DAA520",
    "navigate_num": "#000000",
    "navigate_text": "#333333",
    "running_highlight": "#FF0000",
    "selected_highlight": "#FFD700",
    "sidebar_border": "#EEEEEE",
    "wrapper_background": "#FFFFFF"
   },
   "moveMenuLeft": true,
   "nav_menu": {
    "height": "209px",
    "width": "252px"
   },
   "navigate_menu": true,
   "number_sections": true,
   "sideBar": true,
   "threshold": 4,
   "toc_cell": false,
   "toc_section_display": "block",
   "toc_window_display": true,
   "widenNotebook": false
  },
  "varInspector": {
   "cols": {
    "lenName": 16,
    "lenType": 16,
    "lenVar": 40
   },
   "kernels_config": {
    "python": {
     "delete_cmd_postfix": "",
     "delete_cmd_prefix": "del ",
     "library": "var_list.py",
     "varRefreshCmd": "print(var_dic_list())"
    },
    "r": {
     "delete_cmd_postfix": ") ",
     "delete_cmd_prefix": "rm(",
     "library": "var_list.r",
     "varRefreshCmd": "cat(var_dic_list()) "
    }
   },
   "types_to_exclude": [
    "module",
    "function",
    "builtin_function_or_method",
    "instance",
    "_Feature"
   ],
   "window_display": false
  }
 },
 "nbformat": 4,
 "nbformat_minor": 2
}
